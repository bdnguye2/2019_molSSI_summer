{
 "cells": [
  {
   "cell_type": "markdown",
   "metadata": {},
   "source": [
    "# QCArchive Demo\n",
    "MolSSI Software Summer School"
   ]
  },
  {
   "cell_type": "code",
   "execution_count": 29,
   "metadata": {},
   "outputs": [],
   "source": [
    "import numpy as np\n",
    "import qcelemental\n",
    "import qcportal as ptl\n",
    "client = ptl.FractalClient()"
   ]
  },
  {
   "cell_type": "code",
   "execution_count": 30,
   "metadata": {},
   "outputs": [
    {
     "data": {
      "text/html": [
       "\n",
       "<h3>FractalClient</h3>\n",
       "<ul>\n",
       "  <li><b>Server:   &nbsp; </b>The MolSSI QCArchive Server</li>\n",
       "  <li><b>Address:  &nbsp; </b>https://api.qcarchive.molssi.org:443/</li>\n",
       "  <li><b>Username: &nbsp; </b>None</li>\n",
       "</ul>\n"
      ],
      "text/plain": [
       "FractalClient(server_name='The MolSSI QCArchive Server', address='https://api.qcarchive.molssi.org:443/', username='None')"
      ]
     },
     "execution_count": 30,
     "metadata": {},
     "output_type": "execute_result"
    }
   ],
   "source": [
    "client"
   ]
  },
  {
   "cell_type": "code",
   "execution_count": 31,
   "metadata": {},
   "outputs": [],
   "source": [
    "butane = client.query_molecules(id=['61139','70659'])"
   ]
  },
  {
   "cell_type": "code",
   "execution_count": 32,
   "metadata": {},
   "outputs": [
    {
     "data": {
      "text/plain": [
       "[<Molecule(name='C4H10' formula='C4H10' hash='3bbc6db')>,\n",
       " <Molecule(name='C4H10' formula='C4H10' hash='bb665a3')>]"
      ]
     },
     "execution_count": 32,
     "metadata": {},
     "output_type": "execute_result"
    }
   ],
   "source": [
    "butane"
   ]
  },
  {
   "cell_type": "code",
   "execution_count": 33,
   "metadata": {},
   "outputs": [
    {
     "data": {
      "application/3dmoljs_load.v0": "<div id=\"3dmolviewer_1563893120802526\"  style=\"position: relative; width: 400px; height: 400px\">\n        <p id=\"3dmolwarning_1563893120802526\" style=\"background-color:#ffcccc;color:black\">You appear to be running in JupyterLab (or JavaScript failed to load for some other reason).  You need to install the 3dmol extension: <br>\n        <tt>jupyter labextension install jupyterlab_3dmol</tt></p>\n        </div>\n<script>\n\nvar loadScriptAsync = function(uri){\n  return new Promise((resolve, reject) => {\n    var tag = document.createElement('script');\n    tag.src = uri;\n    tag.async = true;\n    tag.onload = () => {\n      resolve();\n    };\n  var firstScriptTag = document.getElementsByTagName('script')[0];\n  firstScriptTag.parentNode.insertBefore(tag, firstScriptTag);\n});\n};\n\nif(typeof $3Dmolpromise === 'undefined') {\n$3Dmolpromise = null;\n  $3Dmolpromise = loadScriptAsync('https://3dmol.csb.pitt.edu/build/3Dmol.js');\n}\n\nvar viewer_1563893120802526 = null;\nvar warn = document.getElementById(\"3dmolwarning_1563893120802526\");\nif(warn) {\n    warn.parentNode.removeChild(warn);\n}\n$3Dmolpromise.then(function() {\nviewer_1563893120802526 = $3Dmol.createViewer($(\"#3dmolviewer_1563893120802526\"),{backgroundColor:\"white\"});\n\tviewer_1563893120802526.addModel(\"14\\nC4H10\\nC                     0.319142817510    -1.093637470615    -1.564414747816\\nC                    -0.290915848913     1.096758367299     1.567781812448\\nC                     0.092836854842    -0.751249438146    -0.100522397103\\nC                    -0.092794060281     0.751359940931     0.100493429943\\nH                    -0.519879641163    -0.755167725511    -2.180879601800\\nH                     1.228258374974    -0.606784705229    -1.931321629538\\nH                     0.433231534967    -2.173772344395    -1.701604611738\\nH                     0.566770197846     0.756780387768     2.156554230319\\nH                    -1.189142468703     0.614634340052     1.966519364863\\nH                    -0.390704303684     2.178094155841     1.706284173437\\nH                     0.948659303509    -1.102785828023     0.487454535126\\nH                    -0.791724567833    -1.287994152809     0.261736276668\\nH                    -0.960730259026     1.099387769483    -0.471363219252\\nH                     0.783367161017     1.289109832998    -0.280421285847\\n\",\"xyz\");\n\tviewer_1563893120802526.setStyle({\"stick\": {\"radius\": 0.2}, \"sphere\": {\"scale\": 0.3}});\n\tviewer_1563893120802526.zoomTo();\nviewer_1563893120802526.render();\n});\n</script>",
      "text/html": [
       "<div id=\"3dmolviewer_1563893120802526\"  style=\"position: relative; width: 400px; height: 400px\">\n",
       "        <p id=\"3dmolwarning_1563893120802526\" style=\"background-color:#ffcccc;color:black\">You appear to be running in JupyterLab (or JavaScript failed to load for some other reason).  You need to install the 3dmol extension: <br>\n",
       "        <tt>jupyter labextension install jupyterlab_3dmol</tt></p>\n",
       "        </div>\n",
       "<script>\n",
       "\n",
       "var loadScriptAsync = function(uri){\n",
       "  return new Promise((resolve, reject) => {\n",
       "    var tag = document.createElement('script');\n",
       "    tag.src = uri;\n",
       "    tag.async = true;\n",
       "    tag.onload = () => {\n",
       "      resolve();\n",
       "    };\n",
       "  var firstScriptTag = document.getElementsByTagName('script')[0];\n",
       "  firstScriptTag.parentNode.insertBefore(tag, firstScriptTag);\n",
       "});\n",
       "};\n",
       "\n",
       "if(typeof $3Dmolpromise === 'undefined') {\n",
       "$3Dmolpromise = null;\n",
       "  $3Dmolpromise = loadScriptAsync('https://3dmol.csb.pitt.edu/build/3Dmol.js');\n",
       "}\n",
       "\n",
       "var viewer_1563893120802526 = null;\n",
       "var warn = document.getElementById(\"3dmolwarning_1563893120802526\");\n",
       "if(warn) {\n",
       "    warn.parentNode.removeChild(warn);\n",
       "}\n",
       "$3Dmolpromise.then(function() {\n",
       "viewer_1563893120802526 = $3Dmol.createViewer($(\"#3dmolviewer_1563893120802526\"),{backgroundColor:\"white\"});\n",
       "\tviewer_1563893120802526.addModel(\"14\\nC4H10\\nC                     0.319142817510    -1.093637470615    -1.564414747816\\nC                    -0.290915848913     1.096758367299     1.567781812448\\nC                     0.092836854842    -0.751249438146    -0.100522397103\\nC                    -0.092794060281     0.751359940931     0.100493429943\\nH                    -0.519879641163    -0.755167725511    -2.180879601800\\nH                     1.228258374974    -0.606784705229    -1.931321629538\\nH                     0.433231534967    -2.173772344395    -1.701604611738\\nH                     0.566770197846     0.756780387768     2.156554230319\\nH                    -1.189142468703     0.614634340052     1.966519364863\\nH                    -0.390704303684     2.178094155841     1.706284173437\\nH                     0.948659303509    -1.102785828023     0.487454535126\\nH                    -0.791724567833    -1.287994152809     0.261736276668\\nH                    -0.960730259026     1.099387769483    -0.471363219252\\nH                     0.783367161017     1.289109832998    -0.280421285847\\n\",\"xyz\");\n",
       "\tviewer_1563893120802526.setStyle({\"stick\": {\"radius\": 0.2}, \"sphere\": {\"scale\": 0.3}});\n",
       "\tviewer_1563893120802526.zoomTo();\n",
       "viewer_1563893120802526.render();\n",
       "});\n",
       "</script>"
      ]
     },
     "metadata": {},
     "output_type": "display_data"
    },
    {
     "data": {
      "text/plain": [
       "<py3Dmol.view at 0x7f7f45c62be0>"
      ]
     },
     "execution_count": 33,
     "metadata": {},
     "output_type": "execute_result"
    }
   ],
   "source": [
    "butane[0].show()"
   ]
  },
  {
   "cell_type": "code",
   "execution_count": 34,
   "metadata": {},
   "outputs": [
    {
     "data": {
      "application/3dmoljs_load.v0": "<div id=\"3dmolviewer_15638931208176148\"  style=\"position: relative; width: 400px; height: 400px\">\n        <p id=\"3dmolwarning_15638931208176148\" style=\"background-color:#ffcccc;color:black\">You appear to be running in JupyterLab (or JavaScript failed to load for some other reason).  You need to install the 3dmol extension: <br>\n        <tt>jupyter labextension install jupyterlab_3dmol</tt></p>\n        </div>\n<script>\n\nvar loadScriptAsync = function(uri){\n  return new Promise((resolve, reject) => {\n    var tag = document.createElement('script');\n    tag.src = uri;\n    tag.async = true;\n    tag.onload = () => {\n      resolve();\n    };\n  var firstScriptTag = document.getElementsByTagName('script')[0];\n  firstScriptTag.parentNode.insertBefore(tag, firstScriptTag);\n});\n};\n\nif(typeof $3Dmolpromise === 'undefined') {\n$3Dmolpromise = null;\n  $3Dmolpromise = loadScriptAsync('https://3dmol.csb.pitt.edu/build/3Dmol.js');\n}\n\nvar viewer_15638931208176148 = null;\nvar warn = document.getElementById(\"3dmolwarning_15638931208176148\");\nif(warn) {\n    warn.parentNode.removeChild(warn);\n}\n$3Dmolpromise.then(function() {\nviewer_15638931208176148 = $3Dmol.createViewer($(\"#3dmolviewer_15638931208176148\"),{backgroundColor:\"white\"});\n\tviewer_15638931208176148.addModel(\"14\\nC4H10\\nC                    -0.367198611826    -1.239066459661    -0.895096896430\\nC                    -0.805813620019     1.122919020599     0.749193187800\\nC                     0.884999946537    -0.552975918533    -0.342565957722\\nC                     0.651313993821     0.705495331858     0.533442172609\\nH                    -1.015245486716    -1.597844274534    -0.068455110112\\nH                    -0.934555683074    -0.548936751218    -1.553770205346\\nH                    -0.065145201911    -2.119653004760    -1.500550906186\\nH                    -1.371403922022     0.320442026938     1.267036676767\\nH                    -1.290856239503     1.369335458265    -0.218296082402\\nH                    -0.835804383885     2.030484305799     1.388465658940\\nH                     1.531851627070    -0.275261564622    -1.203346997941\\nH                     1.452835145270    -1.302370505887     0.251115044454\\nH                     1.190135739619     1.564630144108     0.077322987724\\nH                     1.111261775825     0.537535321291     1.531802741680\\n\",\"xyz\");\n\tviewer_15638931208176148.setStyle({\"stick\": {\"radius\": 0.2}, \"sphere\": {\"scale\": 0.3}});\n\tviewer_15638931208176148.zoomTo();\nviewer_15638931208176148.render();\n});\n</script>",
      "text/html": [
       "<div id=\"3dmolviewer_15638931208176148\"  style=\"position: relative; width: 400px; height: 400px\">\n",
       "        <p id=\"3dmolwarning_15638931208176148\" style=\"background-color:#ffcccc;color:black\">You appear to be running in JupyterLab (or JavaScript failed to load for some other reason).  You need to install the 3dmol extension: <br>\n",
       "        <tt>jupyter labextension install jupyterlab_3dmol</tt></p>\n",
       "        </div>\n",
       "<script>\n",
       "\n",
       "var loadScriptAsync = function(uri){\n",
       "  return new Promise((resolve, reject) => {\n",
       "    var tag = document.createElement('script');\n",
       "    tag.src = uri;\n",
       "    tag.async = true;\n",
       "    tag.onload = () => {\n",
       "      resolve();\n",
       "    };\n",
       "  var firstScriptTag = document.getElementsByTagName('script')[0];\n",
       "  firstScriptTag.parentNode.insertBefore(tag, firstScriptTag);\n",
       "});\n",
       "};\n",
       "\n",
       "if(typeof $3Dmolpromise === 'undefined') {\n",
       "$3Dmolpromise = null;\n",
       "  $3Dmolpromise = loadScriptAsync('https://3dmol.csb.pitt.edu/build/3Dmol.js');\n",
       "}\n",
       "\n",
       "var viewer_15638931208176148 = null;\n",
       "var warn = document.getElementById(\"3dmolwarning_15638931208176148\");\n",
       "if(warn) {\n",
       "    warn.parentNode.removeChild(warn);\n",
       "}\n",
       "$3Dmolpromise.then(function() {\n",
       "viewer_15638931208176148 = $3Dmol.createViewer($(\"#3dmolviewer_15638931208176148\"),{backgroundColor:\"white\"});\n",
       "\tviewer_15638931208176148.addModel(\"14\\nC4H10\\nC                    -0.367198611826    -1.239066459661    -0.895096896430\\nC                    -0.805813620019     1.122919020599     0.749193187800\\nC                     0.884999946537    -0.552975918533    -0.342565957722\\nC                     0.651313993821     0.705495331858     0.533442172609\\nH                    -1.015245486716    -1.597844274534    -0.068455110112\\nH                    -0.934555683074    -0.548936751218    -1.553770205346\\nH                    -0.065145201911    -2.119653004760    -1.500550906186\\nH                    -1.371403922022     0.320442026938     1.267036676767\\nH                    -1.290856239503     1.369335458265    -0.218296082402\\nH                    -0.835804383885     2.030484305799     1.388465658940\\nH                     1.531851627070    -0.275261564622    -1.203346997941\\nH                     1.452835145270    -1.302370505887     0.251115044454\\nH                     1.190135739619     1.564630144108     0.077322987724\\nH                     1.111261775825     0.537535321291     1.531802741680\\n\",\"xyz\");\n",
       "\tviewer_15638931208176148.setStyle({\"stick\": {\"radius\": 0.2}, \"sphere\": {\"scale\": 0.3}});\n",
       "\tviewer_15638931208176148.zoomTo();\n",
       "viewer_15638931208176148.render();\n",
       "});\n",
       "</script>"
      ]
     },
     "metadata": {},
     "output_type": "display_data"
    },
    {
     "data": {
      "text/plain": [
       "<py3Dmol.view at 0x7f7f45c605c0>"
      ]
     },
     "execution_count": 34,
     "metadata": {},
     "output_type": "execute_result"
    }
   ],
   "source": [
    "butane[1].show()"
   ]
  },
  {
   "cell_type": "code",
   "execution_count": 35,
   "metadata": {},
   "outputs": [
    {
     "data": {
      "text/plain": [
       "['__add__',\n",
       " '__class__',\n",
       " '__contains__',\n",
       " '__delattr__',\n",
       " '__delitem__',\n",
       " '__dir__',\n",
       " '__doc__',\n",
       " '__eq__',\n",
       " '__format__',\n",
       " '__ge__',\n",
       " '__getattribute__',\n",
       " '__getitem__',\n",
       " '__gt__',\n",
       " '__hash__',\n",
       " '__iadd__',\n",
       " '__imul__',\n",
       " '__init__',\n",
       " '__init_subclass__',\n",
       " '__iter__',\n",
       " '__le__',\n",
       " '__len__',\n",
       " '__lt__',\n",
       " '__mul__',\n",
       " '__ne__',\n",
       " '__new__',\n",
       " '__reduce__',\n",
       " '__reduce_ex__',\n",
       " '__repr__',\n",
       " '__reversed__',\n",
       " '__rmul__',\n",
       " '__setattr__',\n",
       " '__setitem__',\n",
       " '__sizeof__',\n",
       " '__str__',\n",
       " '__subclasshook__',\n",
       " 'append',\n",
       " 'clear',\n",
       " 'copy',\n",
       " 'count',\n",
       " 'extend',\n",
       " 'index',\n",
       " 'insert',\n",
       " 'pop',\n",
       " 'remove',\n",
       " 'reverse',\n",
       " 'sort']"
      ]
     },
     "execution_count": 35,
     "metadata": {},
     "output_type": "execute_result"
    }
   ],
   "source": [
    "dir(butane)"
   ]
  },
  {
   "cell_type": "code",
   "execution_count": 36,
   "metadata": {},
   "outputs": [
    {
     "data": {
      "text/plain": [
       "['C', 'C', 'C', 'C', 'H', 'H', 'H', 'H', 'H', 'H', 'H', 'H', 'H', 'H']"
      ]
     },
     "execution_count": 36,
     "metadata": {},
     "output_type": "execute_result"
    }
   ],
   "source": [
    "butane[0].symbols"
   ]
  },
  {
   "cell_type": "code",
   "execution_count": 37,
   "metadata": {},
   "outputs": [],
   "source": [
    "butane_geometries = [butane[0].geometry.copy(), butane[1].geometry.copy()]"
   ]
  },
  {
   "cell_type": "code",
   "execution_count": 38,
   "metadata": {},
   "outputs": [],
   "source": [
    "# First 4 symbols are the first coordinates"
   ]
  },
  {
   "cell_type": "code",
   "execution_count": 44,
   "metadata": {},
   "outputs": [
    {
     "name": "stdout",
     "output_type": "stream",
     "text": [
      "7.314158248564329\n"
     ]
    }
   ],
   "source": [
    "r1 = np.array([0.0,0.0,0.0])\n",
    "r2 = np.array([0.0,0.1,0.0])\n",
    "\n",
    "def calculate_distance(rA,rB):\n",
    "    \"\"\"Calculate the distance between points A and B\"\"\"\n",
    "    dist_vec = (rA-rB)\n",
    "    distance = np.linalg.norm(dist_vec)\n",
    "    return distance\n",
    "\n",
    "atom1 = butane_geometries[0][0]\n",
    "atom2 = butane_geometries[0][1]\n",
    "\n",
    "measured_distance = calculate_distance(atom1, atom2)\n",
    "print(measured_distance)\n",
    "\n",
    "# Builds a list of bond distances\n",
    "def build_bond_list(coord, max_bond=1.55, min_bond=0):\n",
    "    num_atoms = len(coord)\n",
    "    bonds = {}\n",
    "    for atom1 in range(num_atoms):\n",
    "        for atom2 in range(atom1, num_atoms):\n",
    "            distance = calculate_distance(coord[atom1],coord[atom2])\n",
    "            \n",
    "            if distance > min_bond and distance < max_bond:\n",
    "                bonds[(atom1,atom2)] = distance\n",
    "    \n",
    "    return bonds"
   ]
  },
  {
   "cell_type": "code",
   "execution_count": 45,
   "metadata": {},
   "outputs": [
    {
     "data": {
      "text/plain": [
       "7.31415824856433"
      ]
     },
     "execution_count": 45,
     "metadata": {},
     "output_type": "execute_result"
    }
   ],
   "source": [
    "butane[0].measure([0,1])"
   ]
  },
  {
   "cell_type": "code",
   "execution_count": 53,
   "metadata": {},
   "outputs": [
    {
     "data": {
      "text/plain": [
       "4.120152166869724"
      ]
     },
     "execution_count": 53,
     "metadata": {},
     "output_type": "execute_result"
    }
   ],
   "source": [
    "# Use calculate_distance function to measure the distance between atoms 4 and 11 in the second butane molecule\n",
    "calculate_distance(butane_geometries[1][3],butane_geometries[1][10])"
   ]
  },
  {
   "cell_type": "code",
   "execution_count": 54,
   "metadata": {},
   "outputs": [
    {
     "data": {
      "text/plain": [
       "4.120152166869724"
      ]
     },
     "execution_count": 54,
     "metadata": {},
     "output_type": "execute_result"
    }
   ],
   "source": [
    "butane[1].measure([3,10])"
   ]
  },
  {
   "cell_type": "code",
   "execution_count": 40,
   "metadata": {},
   "outputs": [],
   "source": [
    "bond_list = build_bond_list(butane_geometries[0])"
   ]
  },
  {
   "cell_type": "code",
   "execution_count": 41,
   "metadata": {},
   "outputs": [
    {
     "name": "stdout",
     "output_type": "stream",
     "text": [
      "{}\n"
     ]
    }
   ],
   "source": [
    "print(bond_list)"
   ]
  },
  {
   "cell_type": "code",
   "execution_count": 42,
   "metadata": {},
   "outputs": [],
   "source": [
    "# Issue is that the coordinates are in Bohr radius and the max distance \n",
    "# is too large leading to nothing in the list"
   ]
  },
  {
   "cell_type": "code",
   "execution_count": 55,
   "metadata": {},
   "outputs": [],
   "source": [
    "bond_list = build_bond_list(butane_geometries[0], max_bond=2.93)"
   ]
  },
  {
   "cell_type": "code",
   "execution_count": 56,
   "metadata": {},
   "outputs": [
    {
     "data": {
      "text/plain": [
       "{(0, 2): 2.873020656801253,\n",
       " (0, 4): 2.068839651551603,\n",
       " (0, 5): 2.068484041315794,\n",
       " (0, 6): 2.068821759435787,\n",
       " (1, 3): 2.873059651780396,\n",
       " (1, 7): 2.068247482474781,\n",
       " (1, 8): 2.0685780442929644,\n",
       " (1, 9): 2.0687346633381822,\n",
       " (2, 3): 2.8862132661474598,\n",
       " (2, 10): 2.0715801221019885,\n",
       " (2, 11): 2.0716218178677623,\n",
       " (3, 12): 2.0713472807014583,\n",
       " (3, 13): 2.071754810836534}"
      ]
     },
     "execution_count": 56,
     "metadata": {},
     "output_type": "execute_result"
    }
   ],
   "source": [
    "bond_list"
   ]
  },
  {
   "cell_type": "code",
   "execution_count": 57,
   "metadata": {},
   "outputs": [
    {
     "data": {
      "text/plain": [
       "[(0, 2, 1.0),\n",
       " (0, 4, 1.0),\n",
       " (0, 5, 1.0),\n",
       " (0, 6, 1.0),\n",
       " (1, 3, 1.0),\n",
       " (1, 7, 1.0),\n",
       " (1, 8, 1.0),\n",
       " (1, 9, 1.0),\n",
       " (2, 3, 1.0),\n",
       " (2, 10, 1.0),\n",
       " (2, 11, 1.0),\n",
       " (3, 12, 1.0),\n",
       " (3, 13, 1.0)]"
      ]
     },
     "execution_count": 57,
     "metadata": {},
     "output_type": "execute_result"
    }
   ],
   "source": [
    "butane[0].connectivity"
   ]
  },
  {
   "cell_type": "code",
   "execution_count": 59,
   "metadata": {},
   "outputs": [],
   "source": [
    "# Use qcportal to access a geometry optimization calculation, use query_procedures\n",
    "# id = 2658710\n",
    "mol = client.query_molecules(id='268710')"
   ]
  },
  {
   "cell_type": "code",
   "execution_count": 63,
   "metadata": {},
   "outputs": [],
   "source": [
    "calculation = client.query_procedures(id=2658710)"
   ]
  },
  {
   "cell_type": "code",
   "execution_count": 83,
   "metadata": {},
   "outputs": [
    {
     "name": "stdout",
     "output_type": "stream",
     "text": [
      "[<OptimizationRecord(id='2658710' status='COMPLETE')>]\n"
     ]
    }
   ],
   "source": [
    "print(calculation)"
   ]
  },
  {
   "cell_type": "code",
   "execution_count": 65,
   "metadata": {},
   "outputs": [],
   "source": [
    "opt = calculation[0]"
   ]
  },
  {
   "cell_type": "code",
   "execution_count": 67,
   "metadata": {},
   "outputs": [
    {
     "data": {
      "application/3dmoljs_load.v0": "<div id=\"3dmolviewer_15638946082140532\"  style=\"position: relative; width: 400px; height: 400px\">\n        <p id=\"3dmolwarning_15638946082140532\" style=\"background-color:#ffcccc;color:black\">You appear to be running in JupyterLab (or JavaScript failed to load for some other reason).  You need to install the 3dmol extension: <br>\n        <tt>jupyter labextension install jupyterlab_3dmol</tt></p>\n        </div>\n<script>\n\nvar loadScriptAsync = function(uri){\n  return new Promise((resolve, reject) => {\n    var tag = document.createElement('script');\n    tag.src = uri;\n    tag.async = true;\n    tag.onload = () => {\n      resolve();\n    };\n  var firstScriptTag = document.getElementsByTagName('script')[0];\n  firstScriptTag.parentNode.insertBefore(tag, firstScriptTag);\n});\n};\n\nif(typeof $3Dmolpromise === 'undefined') {\n$3Dmolpromise = null;\n  $3Dmolpromise = loadScriptAsync('https://3dmol.csb.pitt.edu/build/3Dmol.js');\n}\n\nvar viewer_15638946082140532 = null;\nvar warn = document.getElementById(\"3dmolwarning_15638946082140532\");\nif(warn) {\n    warn.parentNode.removeChild(warn);\n}\n$3Dmolpromise.then(function() {\nviewer_15638946082140532 = $3Dmol.createViewer($(\"#3dmolviewer_15638946082140532\"),{backgroundColor:\"white\"});\n\tviewer_15638946082140532.addModel(\"72\\nC54H18\\nC                     1.219221001901    -4.550194001216    -2.133023000369\\nC                     1.219221001901    -4.550194001216    -0.712023002632\\nC                     1.219221001901     4.550194001216    -2.133023000369\\nC                     1.219221001901     4.550194001216    -0.712023002632\\nC                     2.355354000793    -4.079591998090    -4.266046000738\\nC                     2.355354000793    -4.079591998090    -2.845045997709\\nC                     2.355354000793    -4.079591998090     0.000000000000\\nC                     2.355354000793    -4.079591998090     1.420999997737\\nC                     2.355354000793     4.079591998090    -4.266046000738\\nC                     2.355354000793     4.079591998090    -2.845045997709\\nC                     2.355354000793     4.079591998090     0.000000000000\\nC                     2.355354000793     4.079591998090     1.420999997737\\nC                     3.330972999315    -3.330972999315    -6.399070001252\\nC                     3.330972999315    -3.330972999315    -4.978069998223\\nC                     3.330972999315    -3.330972999315    -2.133023000369\\nC                     3.330972999315    -3.330972999315    -0.712023002632\\nC                     3.330972999315    -3.330972999315     2.133023000369\\nC                     3.330972999315    -3.330972999315     3.554022998107\\nC                     3.330972999315     3.330972999315    -6.399070001252\\nC                     3.330972999315     3.330972999315    -4.978069998223\\nC                     3.330972999315     3.330972999315    -2.133023000369\\nC                     3.330972999315     3.330972999315    -0.712023002632\\nC                     3.330972999315     3.330972999315     2.133023000369\\nC                     3.330972999315     3.330972999315     3.554022998107\\nC                     4.079591998090    -2.355354000793    -7.111092998592\\nC                     4.079591998090    -2.355354000793    -4.266046000738\\nC                     4.079591998090    -2.355354000793    -2.845045997709\\nC                     4.079591998090    -2.355354000793     0.000000000000\\nC                     4.079591998090    -2.355354000793     1.420999997737\\nC                     4.079591998090    -2.355354000793     4.266046000738\\nC                     4.079591998090     2.355354000793    -7.111092998592\\nC                     4.079591998090     2.355354000793    -4.266046000738\\nC                     4.079591998090     2.355354000793    -2.845045997709\\nC                     4.079591998090     2.355354000793     0.000000000000\\nC                     4.079591998090     2.355354000793     1.420999997737\\nC                     4.079591998090     2.355354000793     4.266046000738\\nC                     4.550194001216    -1.219221001901    -6.399070001252\\nC                     4.550194001216    -1.219221001901    -4.978069998223\\nC                     4.550194001216    -1.219221001901    -2.133023000369\\nC                     4.550194001216    -1.219221001901    -0.712023002632\\nC                     4.550194001216    -1.219221001901     2.133023000369\\nC                     4.550194001216    -1.219221001901     3.554022998107\\nC                     4.550194001216     1.219221001901    -6.399070001252\\nC                     4.550194001216     1.219221001901    -4.978069998223\\nC                     4.550194001216     1.219221001901    -2.133023000369\\nC                     4.550194001216     1.219221001901    -0.712023002632\\nC                     4.550194001216     1.219221001901     2.133023000369\\nC                     4.550194001216     1.219221001901     3.554022998107\\nC                     4.710707001441     0.000000000000    -7.111092998592\\nC                     4.710707001441     0.000000000000    -4.266046000738\\nC                     4.710707001441     0.000000000000    -2.845045997709\\nC                     4.710707001441     0.000000000000     0.000000000000\\nC                     4.710707001441     0.000000000000     1.420999997737\\nC                     4.710707001441     0.000000000000     4.266046000738\\nH                     0.288683440765    -4.672701218998    -2.676455361369\\nH                     0.288683440765    -4.672701218998    -0.168590641632\\nH                     0.288683440765     4.672701218998    -2.676455361369\\nH                     0.288683440765     4.672701218998    -0.168590641632\\nH                     1.488231459635    -4.438766150819    -4.809478912082\\nH                     1.488231147420    -4.438766277821     1.964432337570\\nH                     1.488231459635     4.438766150819    -4.809478912082\\nH                     1.488231147420     4.438766277821     1.964432337570\\nH                     2.586357829400    -3.902336471225    -6.942502547464\\nH                     2.586357829400    -3.902336471225     4.097455549610\\nH                     2.586357829400     3.902336471225    -6.942502547464\\nH                     2.586357829400     3.902336471225     4.097455549610\\nH                     4.079591998090    -2.355354000793    -8.195632949853\\nH                     4.079591998090    -2.355354000793     5.350585951999\\nH                     4.079591998090     2.355354000793    -8.195632949853\\nH                     4.079591998090     2.355354000793     5.350585951999\\nH                     4.710707001441     0.000000000000    -8.195632949853\\nH                     4.710707001441     0.000000000000     5.350585951999\\n\",\"xyz\");\n\tviewer_15638946082140532.setStyle({\"stick\": {\"radius\": 0.2}, \"sphere\": {\"scale\": 0.3}});\n\tviewer_15638946082140532.zoomTo();\nviewer_15638946082140532.render();\n});\n</script>",
      "text/html": [
       "<div id=\"3dmolviewer_15638946082140532\"  style=\"position: relative; width: 400px; height: 400px\">\n",
       "        <p id=\"3dmolwarning_15638946082140532\" style=\"background-color:#ffcccc;color:black\">You appear to be running in JupyterLab (or JavaScript failed to load for some other reason).  You need to install the 3dmol extension: <br>\n",
       "        <tt>jupyter labextension install jupyterlab_3dmol</tt></p>\n",
       "        </div>\n",
       "<script>\n",
       "\n",
       "var loadScriptAsync = function(uri){\n",
       "  return new Promise((resolve, reject) => {\n",
       "    var tag = document.createElement('script');\n",
       "    tag.src = uri;\n",
       "    tag.async = true;\n",
       "    tag.onload = () => {\n",
       "      resolve();\n",
       "    };\n",
       "  var firstScriptTag = document.getElementsByTagName('script')[0];\n",
       "  firstScriptTag.parentNode.insertBefore(tag, firstScriptTag);\n",
       "});\n",
       "};\n",
       "\n",
       "if(typeof $3Dmolpromise === 'undefined') {\n",
       "$3Dmolpromise = null;\n",
       "  $3Dmolpromise = loadScriptAsync('https://3dmol.csb.pitt.edu/build/3Dmol.js');\n",
       "}\n",
       "\n",
       "var viewer_15638946082140532 = null;\n",
       "var warn = document.getElementById(\"3dmolwarning_15638946082140532\");\n",
       "if(warn) {\n",
       "    warn.parentNode.removeChild(warn);\n",
       "}\n",
       "$3Dmolpromise.then(function() {\n",
       "viewer_15638946082140532 = $3Dmol.createViewer($(\"#3dmolviewer_15638946082140532\"),{backgroundColor:\"white\"});\n",
       "\tviewer_15638946082140532.addModel(\"72\\nC54H18\\nC                     1.219221001901    -4.550194001216    -2.133023000369\\nC                     1.219221001901    -4.550194001216    -0.712023002632\\nC                     1.219221001901     4.550194001216    -2.133023000369\\nC                     1.219221001901     4.550194001216    -0.712023002632\\nC                     2.355354000793    -4.079591998090    -4.266046000738\\nC                     2.355354000793    -4.079591998090    -2.845045997709\\nC                     2.355354000793    -4.079591998090     0.000000000000\\nC                     2.355354000793    -4.079591998090     1.420999997737\\nC                     2.355354000793     4.079591998090    -4.266046000738\\nC                     2.355354000793     4.079591998090    -2.845045997709\\nC                     2.355354000793     4.079591998090     0.000000000000\\nC                     2.355354000793     4.079591998090     1.420999997737\\nC                     3.330972999315    -3.330972999315    -6.399070001252\\nC                     3.330972999315    -3.330972999315    -4.978069998223\\nC                     3.330972999315    -3.330972999315    -2.133023000369\\nC                     3.330972999315    -3.330972999315    -0.712023002632\\nC                     3.330972999315    -3.330972999315     2.133023000369\\nC                     3.330972999315    -3.330972999315     3.554022998107\\nC                     3.330972999315     3.330972999315    -6.399070001252\\nC                     3.330972999315     3.330972999315    -4.978069998223\\nC                     3.330972999315     3.330972999315    -2.133023000369\\nC                     3.330972999315     3.330972999315    -0.712023002632\\nC                     3.330972999315     3.330972999315     2.133023000369\\nC                     3.330972999315     3.330972999315     3.554022998107\\nC                     4.079591998090    -2.355354000793    -7.111092998592\\nC                     4.079591998090    -2.355354000793    -4.266046000738\\nC                     4.079591998090    -2.355354000793    -2.845045997709\\nC                     4.079591998090    -2.355354000793     0.000000000000\\nC                     4.079591998090    -2.355354000793     1.420999997737\\nC                     4.079591998090    -2.355354000793     4.266046000738\\nC                     4.079591998090     2.355354000793    -7.111092998592\\nC                     4.079591998090     2.355354000793    -4.266046000738\\nC                     4.079591998090     2.355354000793    -2.845045997709\\nC                     4.079591998090     2.355354000793     0.000000000000\\nC                     4.079591998090     2.355354000793     1.420999997737\\nC                     4.079591998090     2.355354000793     4.266046000738\\nC                     4.550194001216    -1.219221001901    -6.399070001252\\nC                     4.550194001216    -1.219221001901    -4.978069998223\\nC                     4.550194001216    -1.219221001901    -2.133023000369\\nC                     4.550194001216    -1.219221001901    -0.712023002632\\nC                     4.550194001216    -1.219221001901     2.133023000369\\nC                     4.550194001216    -1.219221001901     3.554022998107\\nC                     4.550194001216     1.219221001901    -6.399070001252\\nC                     4.550194001216     1.219221001901    -4.978069998223\\nC                     4.550194001216     1.219221001901    -2.133023000369\\nC                     4.550194001216     1.219221001901    -0.712023002632\\nC                     4.550194001216     1.219221001901     2.133023000369\\nC                     4.550194001216     1.219221001901     3.554022998107\\nC                     4.710707001441     0.000000000000    -7.111092998592\\nC                     4.710707001441     0.000000000000    -4.266046000738\\nC                     4.710707001441     0.000000000000    -2.845045997709\\nC                     4.710707001441     0.000000000000     0.000000000000\\nC                     4.710707001441     0.000000000000     1.420999997737\\nC                     4.710707001441     0.000000000000     4.266046000738\\nH                     0.288683440765    -4.672701218998    -2.676455361369\\nH                     0.288683440765    -4.672701218998    -0.168590641632\\nH                     0.288683440765     4.672701218998    -2.676455361369\\nH                     0.288683440765     4.672701218998    -0.168590641632\\nH                     1.488231459635    -4.438766150819    -4.809478912082\\nH                     1.488231147420    -4.438766277821     1.964432337570\\nH                     1.488231459635     4.438766150819    -4.809478912082\\nH                     1.488231147420     4.438766277821     1.964432337570\\nH                     2.586357829400    -3.902336471225    -6.942502547464\\nH                     2.586357829400    -3.902336471225     4.097455549610\\nH                     2.586357829400     3.902336471225    -6.942502547464\\nH                     2.586357829400     3.902336471225     4.097455549610\\nH                     4.079591998090    -2.355354000793    -8.195632949853\\nH                     4.079591998090    -2.355354000793     5.350585951999\\nH                     4.079591998090     2.355354000793    -8.195632949853\\nH                     4.079591998090     2.355354000793     5.350585951999\\nH                     4.710707001441     0.000000000000    -8.195632949853\\nH                     4.710707001441     0.000000000000     5.350585951999\\n\",\"xyz\");\n",
       "\tviewer_15638946082140532.setStyle({\"stick\": {\"radius\": 0.2}, \"sphere\": {\"scale\": 0.3}});\n",
       "\tviewer_15638946082140532.zoomTo();\n",
       "viewer_15638946082140532.render();\n",
       "});\n",
       "</script>"
      ]
     },
     "metadata": {},
     "output_type": "display_data"
    },
    {
     "data": {
      "text/plain": [
       "<py3Dmol.view at 0x7f7f45ad6320>"
      ]
     },
     "execution_count": 67,
     "metadata": {},
     "output_type": "execute_result"
    }
   ],
   "source": [
    "init = opt.get_initial_molecule()\n",
    "init.show()"
   ]
  },
  {
   "cell_type": "code",
   "execution_count": 75,
   "metadata": {},
   "outputs": [],
   "source": [
    "fin = opt.get_final_molecule()"
   ]
  },
  {
   "cell_type": "code",
   "execution_count": 76,
   "metadata": {},
   "outputs": [
    {
     "data": {
      "application/3dmoljs_load.v0": "<div id=\"3dmolviewer_15638947225798578\"  style=\"position: relative; width: 400px; height: 400px\">\n        <p id=\"3dmolwarning_15638947225798578\" style=\"background-color:#ffcccc;color:black\">You appear to be running in JupyterLab (or JavaScript failed to load for some other reason).  You need to install the 3dmol extension: <br>\n        <tt>jupyter labextension install jupyterlab_3dmol</tt></p>\n        </div>\n<script>\n\nvar loadScriptAsync = function(uri){\n  return new Promise((resolve, reject) => {\n    var tag = document.createElement('script');\n    tag.src = uri;\n    tag.async = true;\n    tag.onload = () => {\n      resolve();\n    };\n  var firstScriptTag = document.getElementsByTagName('script')[0];\n  firstScriptTag.parentNode.insertBefore(tag, firstScriptTag);\n});\n};\n\nif(typeof $3Dmolpromise === 'undefined') {\n$3Dmolpromise = null;\n  $3Dmolpromise = loadScriptAsync('https://3dmol.csb.pitt.edu/build/3Dmol.js');\n}\n\nvar viewer_15638947225798578 = null;\nvar warn = document.getElementById(\"3dmolwarning_15638947225798578\");\nif(warn) {\n    warn.parentNode.removeChild(warn);\n}\n$3Dmolpromise.then(function() {\nviewer_15638947225798578 = $3Dmol.createViewer($(\"#3dmolviewer_15638947225798578\"),{backgroundColor:\"white\"});\n\tviewer_15638947225798578.addModel(\"72\\nC54H18\\nC                     2.903604033453    -6.112482329788    -2.100940515408\\nC                     2.903603382565    -6.112487304054    -0.744107403214\\nC                     2.903596069336     6.112511984879    -2.100938033567\\nC                     2.903596667306     6.112507587416    -0.744102465991\\nC                     3.136053574199    -4.883593784133    -4.251905914701\\nC                     3.094346715762    -4.901845079670    -2.857595519928\\nC                     3.094346244794    -4.901850524904     0.012547606598\\nC                     3.136053314903    -4.883599001821     1.406858858638\\nC                     3.136048917440     4.883603912585    -4.251916942755\\nC                     3.094339847042     4.901880291122    -2.857602991911\\nC                     3.094340503222     4.901874110332     0.012560248641\\nC                     3.136049510118     4.883598917152     1.406873167590\\nC                     3.394645977308    -3.657952650851    -6.402321604708\\nC                     3.305058894969    -3.696675976424    -4.965192756557\\nC                     3.244196885152    -3.681150049357    -2.134435247342\\nC                     3.244196472393    -3.681155536925    -0.710614264104\\nC                     3.305058720341    -3.696684210421     2.120150600675\\nC                     3.394647019788    -3.657948168720     3.557280274342\\nC                     3.394645098874     3.657915402067    -6.402351513804\\nC                     3.305054756803     3.696694725172    -4.965221093997\\nC                     3.244191889719     3.681190118655    -2.134434236613\\nC                     3.244192498273     3.681183837322    -0.710607638805\\nC                     3.305055450026     3.696686337713     2.120171116875\\nC                     3.394644987747     3.657920709714     3.557301145091\\nC                     3.524256092076    -2.487901551798    -7.077124981145\\nC                     3.388666317162    -2.459158958219    -4.260200068965\\nC                     3.368221169328    -2.456039649066    -2.840840076072\\nC                     3.368220878281    -2.456048248196    -0.004206440231\\nC                     3.388666089616    -2.459169414761     1.415155076692\\nC                     3.524256965218    -2.487895963687     4.232082788220\\nC                     3.524255107806     2.487850898956    -7.077141517933\\nC                     3.388663512523     2.459188676811    -4.260215658525\\nC                     3.368217973098     2.456082904011    -2.840847860268\\nC                     3.368218475816     2.456073357654    -0.004197581805\\nC                     3.388664046992     2.459177987431     1.415168443709\\nC                     3.524254938470     2.487857090329     4.232090074990\\nC                     3.542570200948    -1.219005732612    -6.395645753732\\nC                     3.475755222683    -1.228237890524    -4.970401987603\\nC                     3.430567082005    -1.228942601107    -2.131991554609\\nC                     3.430566896793    -1.228951142027    -0.713057237156\\nC                     3.475755317935    -1.228248775699     2.125359625341\\nC                     3.542570883587    -1.219000657803     3.550604449824\\nC                     3.542570624290     1.218954391839    -6.395668630062\\nC                     3.475754026742     1.228263481534    -4.970422429718\\nC                     3.430565468014     1.228989830173    -2.131990358668\\nC                     3.430565759062     1.228980892370    -0.713052998446\\nC                     3.475754375999     1.228252421730     2.125372817729\\nC                     3.542570597831     1.218959440190     3.550617933260\\nC                     3.589719842793    -0.000035147950    -7.072735233928\\nC                     3.474337885025     0.000020886625    -4.259012955145\\nC                     3.454492755355     0.000024950705    -2.840866058673\\nC                     3.454492877066     0.000012366871    -0.004179970787\\nC                     3.474338075529     0.000007260311     1.413967179690\\nC                     3.589720234384    -0.000026088436     4.227689553725\\nH                     2.754263255338    -7.040868584476    -2.642719261126\\nH                     2.754262371612    -7.040874913436    -0.202331869602\\nH                     2.754253121594     7.040900557363    -2.642711106505\\nH                     2.754253973569     7.040894381865    -0.202325625311\\nH                     3.023176751931    -5.816498889402    -4.796678967331\\nH                     3.023176122210    -5.816504429888     1.951630186150\\nH                     3.023170380637     5.816506133838    -4.796692419016\\nH                     3.023171222029     5.816500365807     1.951650501263\\nH                     3.354201333521    -4.595760440099    -6.946996256836\\nH                     3.354203053347    -4.595753105703     4.101959165179\\nH                     3.354201846823     4.595710247640    -6.947048449584\\nH                     3.354201481691     4.595718031837     4.101994244336\\nH                     3.628610462449    -2.494167650277    -8.157316857894\\nH                     3.628611483761    -2.494160733931     5.312275024810\\nH                     3.628609255925     2.494108869272    -8.157333071884\\nH                     3.628609203008     2.494116283045     5.312281745360\\nH                     3.698094795777    -0.000047170857    -8.153506247508\\nH                     3.698095055074    -0.000032935990     5.308459895251\\n\",\"xyz\");\n\tviewer_15638947225798578.setStyle({\"stick\": {\"radius\": 0.2}, \"sphere\": {\"scale\": 0.3}});\n\tviewer_15638947225798578.zoomTo();\nviewer_15638947225798578.render();\n});\n</script>",
      "text/html": [
       "<div id=\"3dmolviewer_15638947225798578\"  style=\"position: relative; width: 400px; height: 400px\">\n",
       "        <p id=\"3dmolwarning_15638947225798578\" style=\"background-color:#ffcccc;color:black\">You appear to be running in JupyterLab (or JavaScript failed to load for some other reason).  You need to install the 3dmol extension: <br>\n",
       "        <tt>jupyter labextension install jupyterlab_3dmol</tt></p>\n",
       "        </div>\n",
       "<script>\n",
       "\n",
       "var loadScriptAsync = function(uri){\n",
       "  return new Promise((resolve, reject) => {\n",
       "    var tag = document.createElement('script');\n",
       "    tag.src = uri;\n",
       "    tag.async = true;\n",
       "    tag.onload = () => {\n",
       "      resolve();\n",
       "    };\n",
       "  var firstScriptTag = document.getElementsByTagName('script')[0];\n",
       "  firstScriptTag.parentNode.insertBefore(tag, firstScriptTag);\n",
       "});\n",
       "};\n",
       "\n",
       "if(typeof $3Dmolpromise === 'undefined') {\n",
       "$3Dmolpromise = null;\n",
       "  $3Dmolpromise = loadScriptAsync('https://3dmol.csb.pitt.edu/build/3Dmol.js');\n",
       "}\n",
       "\n",
       "var viewer_15638947225798578 = null;\n",
       "var warn = document.getElementById(\"3dmolwarning_15638947225798578\");\n",
       "if(warn) {\n",
       "    warn.parentNode.removeChild(warn);\n",
       "}\n",
       "$3Dmolpromise.then(function() {\n",
       "viewer_15638947225798578 = $3Dmol.createViewer($(\"#3dmolviewer_15638947225798578\"),{backgroundColor:\"white\"});\n",
       "\tviewer_15638947225798578.addModel(\"72\\nC54H18\\nC                     2.903604033453    -6.112482329788    -2.100940515408\\nC                     2.903603382565    -6.112487304054    -0.744107403214\\nC                     2.903596069336     6.112511984879    -2.100938033567\\nC                     2.903596667306     6.112507587416    -0.744102465991\\nC                     3.136053574199    -4.883593784133    -4.251905914701\\nC                     3.094346715762    -4.901845079670    -2.857595519928\\nC                     3.094346244794    -4.901850524904     0.012547606598\\nC                     3.136053314903    -4.883599001821     1.406858858638\\nC                     3.136048917440     4.883603912585    -4.251916942755\\nC                     3.094339847042     4.901880291122    -2.857602991911\\nC                     3.094340503222     4.901874110332     0.012560248641\\nC                     3.136049510118     4.883598917152     1.406873167590\\nC                     3.394645977308    -3.657952650851    -6.402321604708\\nC                     3.305058894969    -3.696675976424    -4.965192756557\\nC                     3.244196885152    -3.681150049357    -2.134435247342\\nC                     3.244196472393    -3.681155536925    -0.710614264104\\nC                     3.305058720341    -3.696684210421     2.120150600675\\nC                     3.394647019788    -3.657948168720     3.557280274342\\nC                     3.394645098874     3.657915402067    -6.402351513804\\nC                     3.305054756803     3.696694725172    -4.965221093997\\nC                     3.244191889719     3.681190118655    -2.134434236613\\nC                     3.244192498273     3.681183837322    -0.710607638805\\nC                     3.305055450026     3.696686337713     2.120171116875\\nC                     3.394644987747     3.657920709714     3.557301145091\\nC                     3.524256092076    -2.487901551798    -7.077124981145\\nC                     3.388666317162    -2.459158958219    -4.260200068965\\nC                     3.368221169328    -2.456039649066    -2.840840076072\\nC                     3.368220878281    -2.456048248196    -0.004206440231\\nC                     3.388666089616    -2.459169414761     1.415155076692\\nC                     3.524256965218    -2.487895963687     4.232082788220\\nC                     3.524255107806     2.487850898956    -7.077141517933\\nC                     3.388663512523     2.459188676811    -4.260215658525\\nC                     3.368217973098     2.456082904011    -2.840847860268\\nC                     3.368218475816     2.456073357654    -0.004197581805\\nC                     3.388664046992     2.459177987431     1.415168443709\\nC                     3.524254938470     2.487857090329     4.232090074990\\nC                     3.542570200948    -1.219005732612    -6.395645753732\\nC                     3.475755222683    -1.228237890524    -4.970401987603\\nC                     3.430567082005    -1.228942601107    -2.131991554609\\nC                     3.430566896793    -1.228951142027    -0.713057237156\\nC                     3.475755317935    -1.228248775699     2.125359625341\\nC                     3.542570883587    -1.219000657803     3.550604449824\\nC                     3.542570624290     1.218954391839    -6.395668630062\\nC                     3.475754026742     1.228263481534    -4.970422429718\\nC                     3.430565468014     1.228989830173    -2.131990358668\\nC                     3.430565759062     1.228980892370    -0.713052998446\\nC                     3.475754375999     1.228252421730     2.125372817729\\nC                     3.542570597831     1.218959440190     3.550617933260\\nC                     3.589719842793    -0.000035147950    -7.072735233928\\nC                     3.474337885025     0.000020886625    -4.259012955145\\nC                     3.454492755355     0.000024950705    -2.840866058673\\nC                     3.454492877066     0.000012366871    -0.004179970787\\nC                     3.474338075529     0.000007260311     1.413967179690\\nC                     3.589720234384    -0.000026088436     4.227689553725\\nH                     2.754263255338    -7.040868584476    -2.642719261126\\nH                     2.754262371612    -7.040874913436    -0.202331869602\\nH                     2.754253121594     7.040900557363    -2.642711106505\\nH                     2.754253973569     7.040894381865    -0.202325625311\\nH                     3.023176751931    -5.816498889402    -4.796678967331\\nH                     3.023176122210    -5.816504429888     1.951630186150\\nH                     3.023170380637     5.816506133838    -4.796692419016\\nH                     3.023171222029     5.816500365807     1.951650501263\\nH                     3.354201333521    -4.595760440099    -6.946996256836\\nH                     3.354203053347    -4.595753105703     4.101959165179\\nH                     3.354201846823     4.595710247640    -6.947048449584\\nH                     3.354201481691     4.595718031837     4.101994244336\\nH                     3.628610462449    -2.494167650277    -8.157316857894\\nH                     3.628611483761    -2.494160733931     5.312275024810\\nH                     3.628609255925     2.494108869272    -8.157333071884\\nH                     3.628609203008     2.494116283045     5.312281745360\\nH                     3.698094795777    -0.000047170857    -8.153506247508\\nH                     3.698095055074    -0.000032935990     5.308459895251\\n\",\"xyz\");\n",
       "\tviewer_15638947225798578.setStyle({\"stick\": {\"radius\": 0.2}, \"sphere\": {\"scale\": 0.3}});\n",
       "\tviewer_15638947225798578.zoomTo();\n",
       "viewer_15638947225798578.render();\n",
       "});\n",
       "</script>"
      ]
     },
     "metadata": {},
     "output_type": "display_data"
    },
    {
     "data": {
      "text/plain": [
       "<py3Dmol.view at 0x7f7f45abe5c0>"
      ]
     },
     "execution_count": 76,
     "metadata": {},
     "output_type": "execute_result"
    }
   ],
   "source": [
    "fin.show()"
   ]
  },
  {
   "cell_type": "code",
   "execution_count": 82,
   "metadata": {},
   "outputs": [],
   "source": [
    "# max bond length is 2.93\n",
    "init_graphene = init.geometry.copy()\n",
    "fin_graphene = fin.geometry.copy()\n",
    "\n",
    "init_bonds = build_bond_list(init_graphene, max_bond=2.93)\n",
    "fin_bonds = build_bond_list(fin_graphene, max_bond=2.93)"
   ]
  },
  {
   "cell_type": "code",
   "execution_count": 86,
   "metadata": {},
   "outputs": [
    {
     "data": {
      "text/plain": [
       "{(0, 1): 2.6853008199999997,\n",
       " (0, 5): 2.685300947458371,\n",
       " (0, 54): 2.0494834766860643,\n",
       " (1, 6): 2.6853009524690883,\n",
       " (1, 55): 2.0494834766860643,\n",
       " (2, 3): 2.6853008199999997,\n",
       " (2, 9): 2.685300947458371,\n",
       " (2, 56): 2.0494834766860643,\n",
       " (3, 10): 2.6853009524690883,\n",
       " (3, 57): 2.0494834766860643,\n",
       " (4, 5): 2.685300829999999,\n",
       " (4, 13): 2.685300829993184,\n",
       " (4, 58): 2.0494834770587396,\n",
       " (5, 14): 2.6852998829666923,\n",
       " (6, 7): 2.68530082,\n",
       " (6, 15): 2.6852998879774117,\n",
       " (7, 16): 2.6852998879774117,\n",
       " (7, 59): 2.0494834871062877,\n",
       " (8, 9): 2.685300829999999,\n",
       " (8, 19): 2.685300829993184,\n",
       " (8, 60): 2.0494834770587396,\n",
       " (9, 20): 2.6852998829666923,\n",
       " (10, 11): 2.68530082,\n",
       " (10, 21): 2.6852998879774117,\n",
       " (11, 22): 2.6852998879774117,\n",
       " (11, 61): 2.0494834871062877,\n",
       " (12, 13): 2.685300829999999,\n",
       " (12, 24): 2.6852998829666923,\n",
       " (12, 62): 2.049483475383679,\n",
       " (13, 25): 2.685300829993184,\n",
       " (14, 15): 2.6853008199999997,\n",
       " (14, 26): 2.6852998829666923,\n",
       " (15, 27): 2.6852998879774117,\n",
       " (16, 17): 2.68530082,\n",
       " (16, 28): 2.6852998879774117,\n",
       " (17, 29): 2.6852998879774117,\n",
       " (17, 63): 2.049483480394398,\n",
       " (18, 19): 2.685300829999999,\n",
       " (18, 30): 2.6852998829666923,\n",
       " (18, 64): 2.049483475383679,\n",
       " (19, 31): 2.685300829993184,\n",
       " (20, 21): 2.6853008199999997,\n",
       " (20, 32): 2.6852998829666923,\n",
       " (21, 33): 2.6852998879774117,\n",
       " (22, 23): 2.68530082,\n",
       " (22, 34): 2.6852998879774117,\n",
       " (23, 35): 2.6852998879774117,\n",
       " (23, 65): 2.049483480394398,\n",
       " (24, 36): 2.685300947458371,\n",
       " (24, 66): 2.0494834799999992,\n",
       " (25, 26): 2.685300829999999,\n",
       " (25, 37): 2.6853018944844873,\n",
       " (26, 38): 2.685300947458371,\n",
       " (27, 28): 2.68530082,\n",
       " (27, 39): 2.6853009524690883,\n",
       " (28, 40): 2.6853009524690883,\n",
       " (29, 41): 2.6853009524690883,\n",
       " (29, 67): 2.049483480000001,\n",
       " (30, 42): 2.685300947458371,\n",
       " (30, 68): 2.0494834799999992,\n",
       " (31, 32): 2.685300829999999,\n",
       " (31, 43): 2.6853018944844873,\n",
       " (32, 44): 2.685300947458371,\n",
       " (33, 34): 2.68530082,\n",
       " (33, 45): 2.6853009524690883,\n",
       " (34, 46): 2.6853009524690883,\n",
       " (35, 47): 2.6853009524690883,\n",
       " (35, 69): 2.049483480000001,\n",
       " (36, 37): 2.685300829999999,\n",
       " (36, 48): 2.6853008398744698,\n",
       " (37, 49): 2.685301786900624,\n",
       " (38, 39): 2.6853008199999997,\n",
       " (38, 50): 2.6853008398744698,\n",
       " (39, 51): 2.6853008448851874,\n",
       " (40, 41): 2.68530082,\n",
       " (40, 52): 2.6853008448851874,\n",
       " (41, 53): 2.6853008448851874,\n",
       " (42, 43): 2.685300829999999,\n",
       " (42, 48): 2.6853008398744698,\n",
       " (43, 49): 2.685301786900624,\n",
       " (44, 45): 2.6853008199999997,\n",
       " (44, 50): 2.6853008398744698,\n",
       " (45, 51): 2.6853008448851874,\n",
       " (46, 47): 2.68530082,\n",
       " (46, 52): 2.6853008448851874,\n",
       " (47, 53): 2.6853008448851874,\n",
       " (48, 70): 2.0494834799999992,\n",
       " (49, 50): 2.685300829999999,\n",
       " (51, 52): 2.68530082,\n",
       " (53, 71): 2.049483480000001}"
      ]
     },
     "execution_count": 86,
     "metadata": {},
     "output_type": "execute_result"
    }
   ],
   "source": [
    "# (Optional) Compare the two dictionaries initial_bonds and final_bonds to find the change\n",
    "# in bond length\n",
    "init_bonds"
   ]
  },
  {
   "cell_type": "code",
   "execution_count": 87,
   "metadata": {},
   "outputs": [
    {
     "data": {
      "text/plain": [
       "{(0, 1): 2.5640429800175255,\n",
       " (0, 5): 2.721830285918179,\n",
       " (0, 54): 2.050790758811911,\n",
       " (1, 6): 2.7218295881283754,\n",
       " (1, 55): 2.0507899790642936,\n",
       " (2, 3): 2.5640476200137154,\n",
       " (2, 9): 2.7218316161338745,\n",
       " (2, 56): 2.0507897182972523,\n",
       " (3, 10): 2.7218322358238627,\n",
       " (3, 57): 2.0507903323327072,\n",
       " (4, 5): 2.6362688969926538,\n",
       " (4, 13): 2.6362287673968563,\n",
       " (4, 58): 2.0526208230733363,\n",
       " (5, 14): 2.6960983036854445,\n",
       " (6, 7): 2.636270533714002,\n",
       " (6, 15): 2.6960997775436293,\n",
       " (7, 16): 2.6362286718268693,\n",
       " (7, 59): 2.052619784709002,\n",
       " (8, 9): 2.6362763589350253,\n",
       " (8, 19): 2.6362317513408633,\n",
       " (8, 60): 2.052618775995513,\n",
       " (9, 20): 2.696098946310403,\n",
       " (10, 11): 2.6362743770415618,\n",
       " (10, 21): 2.69609826814251,\n",
       " (11, 22): 2.636231235454784,\n",
       " (11, 61): 2.052619233623958,\n",
       " (12, 13): 2.72203531192571,\n",
       " (12, 24): 2.564169618543982,\n",
       " (12, 62): 2.0508445474196115,\n",
       " (13, 25): 2.696059263395006,\n",
       " (14, 15): 2.690631710020097,\n",
       " (14, 26): 2.682669276790726,\n",
       " (15, 27): 2.6826670389495995,\n",
       " (16, 17): 2.722037657492619,\n",
       " (16, 28): 2.6960582630681764,\n",
       " (17, 29): 2.5641705795606935,\n",
       " (17, 63): 2.050843862160726,\n",
       " (18, 19): 2.722041505034991,\n",
       " (18, 30): 2.5641788745730825,\n",
       " (18, 64): 2.050844447656416,\n",
       " (19, 31): 2.6960533339463475,\n",
       " (20, 21): 2.690642320026428,\n",
       " (20, 32): 2.6826726488841537,\n",
       " (21, 33): 2.682674602167853,\n",
       " (22, 23): 2.7220399755844102,\n",
       " (22, 34): 2.6960545100618356,\n",
       " (23, 35): 2.564176414497956,\n",
       " (23, 65): 2.0508448708356606,\n",
       " (24, 36): 2.7220230301094754,\n",
       " (24, 66): 2.0508044054115038,\n",
       " (25, 26): 2.6824863860456256,\n",
       " (25, 37): 2.6905465841620844,\n",
       " (26, 38): 2.680561957509339,\n",
       " (27, 28): 2.682489275183641,\n",
       " (27, 39): 2.6805642102547806,\n",
       " (28, 40): 2.6905484003099565,\n",
       " (29, 41): 2.722021376226541,\n",
       " (29, 67): 2.050805094682261,\n",
       " (30, 42): 2.7220185413147258,\n",
       " (30, 68): 2.0508036692319536,\n",
       " (31, 32): 2.6825010890496643,\n",
       " (31, 43): 2.6905580877221253,\n",
       " (32, 44): 2.6805640725487785,\n",
       " (33, 34): 2.6824977355443593,\n",
       " (33, 45): 2.680561091221982,\n",
       " (34, 46): 2.6905564118575427,\n",
       " (35, 47): 2.72201978044889,\n",
       " (35, 69): 2.0508039226853367,\n",
       " (36, 37): 2.696334759656457,\n",
       " (36, 48): 2.636532006559348,\n",
       " (37, 49): 2.682277014835587,\n",
       " (38, 39): 2.681397250048598,\n",
       " (38, 50): 2.6814386328151083,\n",
       " (39, 51): 2.6814346333317425,\n",
       " (40, 41): 2.696337004713522,\n",
       " (40, 52): 2.682275764899848,\n",
       " (41, 53): 2.6365345534604177,\n",
       " (42, 43): 2.696340442384856,\n",
       " (42, 48): 2.63654229620249,\n",
       " (43, 49): 2.682269911997115,\n",
       " (44, 45): 2.6814030000532503,\n",
       " (44, 50): 2.6814354394476605,\n",
       " (45, 51): 2.681438878673595,\n",
       " (46, 47): 2.6963381630025953,\n",
       " (46, 52): 2.6822704754077114,\n",
       " (47, 53): 2.636540300741533,\n",
       " (48, 70): 2.0526037064385148,\n",
       " (49, 50): 2.680171622154041,\n",
       " (51, 52): 2.6801721039324247,\n",
       " (53, 71): 2.0526024177470563}"
      ]
     },
     "execution_count": 87,
     "metadata": {},
     "output_type": "execute_result"
    }
   ],
   "source": [
    "fin_bonds"
   ]
  },
  {
   "cell_type": "code",
   "execution_count": 125,
   "metadata": {},
   "outputs": [],
   "source": [
    "# Average bond lengths between the initial and final structures are compare\n",
    "vals=init_bonds.values()"
   ]
  },
  {
   "cell_type": "code",
   "execution_count": null,
   "metadata": {},
   "outputs": [],
   "source": []
  }
 ],
 "metadata": {
  "kernelspec": {
   "display_name": "Python 3",
   "language": "python",
   "name": "python3"
  },
  "language_info": {
   "codemirror_mode": {
    "name": "ipython",
    "version": 3
   },
   "file_extension": ".py",
   "mimetype": "text/x-python",
   "name": "python",
   "nbconvert_exporter": "python",
   "pygments_lexer": "ipython3",
   "version": "3.7.3"
  }
 },
 "nbformat": 4,
 "nbformat_minor": 2
}
