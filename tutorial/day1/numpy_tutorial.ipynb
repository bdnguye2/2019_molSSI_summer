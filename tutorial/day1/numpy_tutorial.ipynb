{
 "cells": [
  {
   "cell_type": "markdown",
   "metadata": {},
   "source": [
    "# MolSSI Summer School\n",
    "## NumPy"
   ]
  },
  {
   "cell_type": "code",
   "execution_count": 1,
   "metadata": {},
   "outputs": [],
   "source": [
    "import numpy as np"
   ]
  },
  {
   "cell_type": "code",
   "execution_count": 2,
   "metadata": {},
   "outputs": [],
   "source": [
    "# Create some lists\n",
    "r1 = [0.0,0.1,0.0]\n",
    "r2 = [0.0,0.0,0.0]\n",
    "\n",
    "# Create some nupy arrays\n",
    "r1_array = np.array(r1)\n",
    "r2_array = np.array(r2)"
   ]
  },
  {
   "cell_type": "code",
   "execution_count": 3,
   "metadata": {},
   "outputs": [
    {
     "name": "stdout",
     "output_type": "stream",
     "text": [
      "[0.0, 0.1, 0.0]\n",
      "[0.  0.1 0. ]\n"
     ]
    }
   ],
   "source": [
    "print(r1)\n",
    "print(r1_array)"
   ]
  },
  {
   "cell_type": "code",
   "execution_count": 4,
   "metadata": {},
   "outputs": [
    {
     "name": "stdout",
     "output_type": "stream",
     "text": [
      "[0.  0.1 0. ]\n"
     ]
    }
   ],
   "source": [
    "# Adding two arrays results in element wise addition\n",
    "print(r1_array + r2_array)"
   ]
  },
  {
   "cell_type": "code",
   "execution_count": 5,
   "metadata": {},
   "outputs": [
    {
     "data": {
      "text/plain": [
       "[0.0, 0.1, 0.0, 0.0, 0.0, 0.0]"
      ]
     },
     "execution_count": 5,
     "metadata": {},
     "output_type": "execute_result"
    }
   ],
   "source": [
    "# Adding two lists concatenates the list\n",
    "r1 + r2"
   ]
  },
  {
   "cell_type": "code",
   "execution_count": 6,
   "metadata": {},
   "outputs": [
    {
     "data": {
      "text/plain": [
       "array([2, 3, 0])"
      ]
     },
     "execution_count": 6,
     "metadata": {},
     "output_type": "execute_result"
    }
   ],
   "source": [
    "a1 = np.array([2,1,0])\n",
    "a2 = np.array([1,3,5])\n",
    "\n",
    "a1 * a2"
   ]
  },
  {
   "cell_type": "code",
   "execution_count": 7,
   "metadata": {},
   "outputs": [
    {
     "data": {
      "text/plain": [
       "array([0. , 0.1, 0. ])"
      ]
     },
     "execution_count": 7,
     "metadata": {},
     "output_type": "execute_result"
    }
   ],
   "source": [
    "r1_array"
   ]
  },
  {
   "cell_type": "code",
   "execution_count": 8,
   "metadata": {},
   "outputs": [
    {
     "data": {
      "text/plain": [
       "array([0., 1., 0.])"
      ]
     },
     "execution_count": 8,
     "metadata": {},
     "output_type": "execute_result"
    }
   ],
   "source": [
    "r1_array*10"
   ]
  },
  {
   "cell_type": "code",
   "execution_count": 9,
   "metadata": {},
   "outputs": [],
   "source": [
    "def calculate_distance(rA, rB):\n",
    "    \"\"\"Calculate the distance between points A and B\"\"\"\n",
    "    x_dist = (rA[0] - rB[0])**2\n",
    "    y_dist = (rA[1] - rB[1])**2\n",
    "    z_dist = (rA[2] - rB[2])**2\n",
    "    \n",
    "    distance = np.sqrt(x_dist + y_dist + z_dist)\n",
    "    \n",
    "    return distance"
   ]
  },
  {
   "cell_type": "code",
   "execution_count": 10,
   "metadata": {},
   "outputs": [],
   "source": [
    "def calculate_arrays(rA,rB):\n",
    "    \"\"\"Caclulate distance between points A and B\"\"\"\n",
    "    total = np.sum(np.square((rA-rB)))\n",
    "    distance = np.sqrt(total)\n",
    "    \n",
    "    return distance"
   ]
  },
  {
   "cell_type": "code",
   "execution_count": 15,
   "metadata": {},
   "outputs": [
    {
     "data": {
      "text/plain": [
       "0.1"
      ]
     },
     "execution_count": 15,
     "metadata": {},
     "output_type": "execute_result"
    }
   ],
   "source": [
    "calculate_arrays(r1_array,r2_array)"
   ]
  },
  {
   "cell_type": "code",
   "execution_count": 13,
   "metadata": {},
   "outputs": [
    {
     "data": {
      "text/plain": [
       "0.1"
      ]
     },
     "execution_count": 13,
     "metadata": {},
     "output_type": "execute_result"
    }
   ],
   "source": [
    "calculate_distance(r1_array,r2_array)"
   ]
  },
  {
   "cell_type": "code",
   "execution_count": 17,
   "metadata": {},
   "outputs": [
    {
     "name": "stdout",
     "output_type": "stream",
     "text": [
      "[[0.76362482 0.64481083 0.63418084]\n",
      " [0.67881702 0.98842306 0.16531556]\n",
      " [0.20966204 0.72995862 0.13451349]\n",
      " [0.78529764 0.61397747 0.01058066]\n",
      " [0.4384066  0.71093737 0.58226915]\n",
      " [0.67414084 0.74911551 0.65098538]\n",
      " [0.83903549 0.12963417 0.34017951]\n",
      " [0.06618574 0.82990402 0.73412174]\n",
      " [0.82123564 0.11828528 0.98575523]\n",
      " [0.02832528 0.94175698 0.29731776]]\n"
     ]
    }
   ],
   "source": [
    "# create random array\n",
    "coordinates = np.random.random([10,3])\n",
    "print(coordinates)"
   ]
  },
  {
   "cell_type": "code",
   "execution_count": 18,
   "metadata": {},
   "outputs": [
    {
     "name": "stdout",
     "output_type": "stream",
     "text": [
      "Help on function linspace in module numpy.core.function_base:\n",
      "\n",
      "linspace(start, stop, num=50, endpoint=True, retstep=False, dtype=None)\n",
      "    Return evenly spaced numbers over a specified interval.\n",
      "    \n",
      "    Returns `num` evenly spaced samples, calculated over the\n",
      "    interval [`start`, `stop`].\n",
      "    \n",
      "    The endpoint of the interval can optionally be excluded.\n",
      "    \n",
      "    Parameters\n",
      "    ----------\n",
      "    start : scalar\n",
      "        The starting value of the sequence.\n",
      "    stop : scalar\n",
      "        The end value of the sequence, unless `endpoint` is set to False.\n",
      "        In that case, the sequence consists of all but the last of ``num + 1``\n",
      "        evenly spaced samples, so that `stop` is excluded.  Note that the step\n",
      "        size changes when `endpoint` is False.\n",
      "    num : int, optional\n",
      "        Number of samples to generate. Default is 50. Must be non-negative.\n",
      "    endpoint : bool, optional\n",
      "        If True, `stop` is the last sample. Otherwise, it is not included.\n",
      "        Default is True.\n",
      "    retstep : bool, optional\n",
      "        If True, return (`samples`, `step`), where `step` is the spacing\n",
      "        between samples.\n",
      "    dtype : dtype, optional\n",
      "        The type of the output array.  If `dtype` is not given, infer the data\n",
      "        type from the other input arguments.\n",
      "    \n",
      "        .. versionadded:: 1.9.0\n",
      "    \n",
      "    Returns\n",
      "    -------\n",
      "    samples : ndarray\n",
      "        There are `num` equally spaced samples in the closed interval\n",
      "        ``[start, stop]`` or the half-open interval ``[start, stop)``\n",
      "        (depending on whether `endpoint` is True or False).\n",
      "    step : float, optional\n",
      "        Only returned if `retstep` is True\n",
      "    \n",
      "        Size of spacing between samples.\n",
      "    \n",
      "    \n",
      "    See Also\n",
      "    --------\n",
      "    arange : Similar to `linspace`, but uses a step size (instead of the\n",
      "             number of samples).\n",
      "    logspace : Samples uniformly distributed in log space.\n",
      "    \n",
      "    Examples\n",
      "    --------\n",
      "    >>> np.linspace(2.0, 3.0, num=5)\n",
      "    array([ 2.  ,  2.25,  2.5 ,  2.75,  3.  ])\n",
      "    >>> np.linspace(2.0, 3.0, num=5, endpoint=False)\n",
      "    array([ 2. ,  2.2,  2.4,  2.6,  2.8])\n",
      "    >>> np.linspace(2.0, 3.0, num=5, retstep=True)\n",
      "    (array([ 2.  ,  2.25,  2.5 ,  2.75,  3.  ]), 0.25)\n",
      "    \n",
      "    Graphical illustration:\n",
      "    \n",
      "    >>> import matplotlib.pyplot as plt\n",
      "    >>> N = 8\n",
      "    >>> y = np.zeros(N)\n",
      "    >>> x1 = np.linspace(0, 10, N, endpoint=True)\n",
      "    >>> x2 = np.linspace(0, 10, N, endpoint=False)\n",
      "    >>> plt.plot(x1, y, 'o')\n",
      "    [<matplotlib.lines.Line2D object at 0x...>]\n",
      "    >>> plt.plot(x2, y + 0.5, 'o')\n",
      "    [<matplotlib.lines.Line2D object at 0x...>]\n",
      "    >>> plt.ylim([-0.5, 1])\n",
      "    (-0.5, 1)\n",
      "    >>> plt.show()\n",
      "\n"
     ]
    }
   ],
   "source": [
    "help(np.linspace)"
   ]
  },
  {
   "cell_type": "code",
   "execution_count": 37,
   "metadata": {},
   "outputs": [],
   "source": [
    "test_array = np.linspace(0,10,num=30)"
   ]
  },
  {
   "cell_type": "code",
   "execution_count": 39,
   "metadata": {},
   "outputs": [
    {
     "name": "stdout",
     "output_type": "stream",
     "text": [
      "[ 0.          0.34482759  0.68965517  1.03448276  1.37931034  1.72413793\n",
      "  2.06896552  2.4137931   2.75862069  3.10344828  3.44827586  3.79310345\n",
      "  4.13793103  4.48275862  4.82758621  5.17241379  5.51724138  5.86206897\n",
      "  6.20689655  6.55172414  6.89655172  7.24137931  7.5862069   7.93103448\n",
      "  8.27586207  8.62068966  8.96551724  9.31034483  9.65517241 10.        ]\n"
     ]
    }
   ],
   "source": [
    "print(test_array)"
   ]
  },
  {
   "cell_type": "code",
   "execution_count": 23,
   "metadata": {},
   "outputs": [
    {
     "data": {
      "text/plain": [
       "(30,)"
      ]
     },
     "execution_count": 23,
     "metadata": {},
     "output_type": "execute_result"
    }
   ],
   "source": [
    "test_array.shape"
   ]
  },
  {
   "cell_type": "code",
   "execution_count": 24,
   "metadata": {},
   "outputs": [
    {
     "data": {
      "text/plain": [
       "30"
      ]
     },
     "execution_count": 24,
     "metadata": {},
     "output_type": "execute_result"
    }
   ],
   "source": [
    "test_array.size"
   ]
  },
  {
   "cell_type": "code",
   "execution_count": 33,
   "metadata": {},
   "outputs": [
    {
     "name": "stdout",
     "output_type": "stream",
     "text": [
      "The array shape is (30,)\n"
     ]
    }
   ],
   "source": [
    "print('The array shape is',test_array.shape)"
   ]
  },
  {
   "cell_type": "code",
   "execution_count": 41,
   "metadata": {},
   "outputs": [
    {
     "data": {
      "text/plain": [
       "[<matplotlib.lines.Line2D at 0x7f878c1013c8>]"
      ]
     },
     "execution_count": 41,
     "metadata": {},
     "output_type": "execute_result"
    },
    {
     "data": {
      "image/png": "[encoded data removed]",
      "text/plain": [
       "<Figure size 432x288 with 1 Axes>"
      ]
     },
     "metadata": {
      "needs_background": "light"
     },
     "output_type": "display_data"
    }
   ],
   "source": [
    "import matplotlib.pyplot as plt\n",
    "from mpl_toolkits import mplot3d\n",
    "\n",
    "%matplotlib inline\n",
    "\n",
    "plt.plot(test_array, 'o')"
   ]
  },
  {
   "cell_type": "code",
   "execution_count": 42,
   "metadata": {},
   "outputs": [
    {
     "name": "stdout",
     "output_type": "stream",
     "text": [
      "[[ 0.          0.34482759  0.68965517]\n",
      " [ 1.03448276  1.37931034  1.72413793]\n",
      " [ 2.06896552  2.4137931   2.75862069]\n",
      " [ 3.10344828  3.44827586  3.79310345]\n",
      " [ 4.13793103  4.48275862  4.82758621]\n",
      " [ 5.17241379  5.51724138  5.86206897]\n",
      " [ 6.20689655  6.55172414  6.89655172]\n",
      " [ 7.24137931  7.5862069   7.93103448]\n",
      " [ 8.27586207  8.62068966  8.96551724]\n",
      " [ 9.31034483  9.65517241 10.        ]]\n"
     ]
    }
   ],
   "source": [
    "reshaped_array = test_array.reshape((10,3))\n",
    "\n",
    "print(reshaped_array)"
   ]
  },
  {
   "cell_type": "code",
   "execution_count": 56,
   "metadata": {},
   "outputs": [
    {
     "data": {
      "text/plain": [
       "<mpl_toolkits.mplot3d.art3d.Path3DCollection at 0x7f878b1c1c18>"
      ]
     },
     "execution_count": 56,
     "metadata": {},
     "output_type": "execute_result"
    },
    {
     "data": {
      "image/png": "[encoded data removed]",
      "text/plain": [
       "<Figure size 432x288 with 1 Axes>"
      ]
     },
     "metadata": {
      "needs_background": "light"
     },
     "output_type": "display_data"
    }
   ],
   "source": [
    "ax = plt.axes(projection='3d')\n",
    "ax.scatter3D(reshaped_array[:,0], reshaped_array[:,1], reshaped_array[:,2])"
   ]
  },
  {
   "cell_type": "code",
   "execution_count": 51,
   "metadata": {},
   "outputs": [
    {
     "name": "stdout",
     "output_type": "stream",
     "text": [
      "Help on method scatter in module mpl_toolkits.mplot3d.axes3d:\n",
      "\n",
      "scatter(xs, ys, zs=0, zdir='z', s=20, c=None, depthshade=True, *args, **kwargs) method of matplotlib.axes._subplots.Axes3DSubplot instance\n",
      "    Create a scatter plot.\n",
      "    \n",
      "    ============  ========================================================\n",
      "    Argument      Description\n",
      "    ============  ========================================================\n",
      "    *xs*, *ys*    Positions of data points.\n",
      "    *zs*          Either an array of the same length as *xs* and\n",
      "                  *ys* or a single value to place all points in\n",
      "                  the same plane. Default is 0.\n",
      "    *zdir*        Which direction to use as z ('x', 'y' or 'z')\n",
      "                  when plotting a 2D set.\n",
      "    *s*           Size in points^2.  It is a scalar or an array of the\n",
      "                  same length as *x* and *y*.\n",
      "    \n",
      "    *c*           A color. *c* can be a single color format string, or a\n",
      "                  sequence of color specifications of length *N*, or a\n",
      "                  sequence of *N* numbers to be mapped to colors using the\n",
      "                  *cmap* and *norm* specified via kwargs (see below). Note\n",
      "                  that *c* should not be a single numeric RGB or RGBA\n",
      "                  sequence because that is indistinguishable from an array\n",
      "                  of values to be colormapped.  *c* can be a 2-D array in\n",
      "                  which the rows are RGB or RGBA, however, including the\n",
      "                  case of a single row to specify the same color for\n",
      "                  all points.\n",
      "    \n",
      "    *depthshade*\n",
      "                  Whether or not to shade the scatter markers to give\n",
      "                  the appearance of depth. Default is *True*.\n",
      "    ============  ========================================================\n",
      "    \n",
      "    Keyword arguments are passed on to\n",
      "    :func:`~matplotlib.axes.Axes.scatter`.\n",
      "    \n",
      "    Returns a :class:`~mpl_toolkits.mplot3d.art3d.Patch3DCollection`\n",
      "\n"
     ]
    }
   ],
   "source": [
    "help(ax.scatter3D)"
   ]
  },
  {
   "cell_type": "code",
   "execution_count": 69,
   "metadata": {},
   "outputs": [
    {
     "name": "stdout",
     "output_type": "stream",
     "text": [
      "0 to 2 : 1.7917766974850455\n",
      "1 to 3 : 1.7917766974850455\n",
      "2 to 4 : 1.7917766974850458\n",
      "3 to 5 : 1.7917766974850455\n",
      "4 to 6 : 1.7917766974850458\n",
      "5 to 7 : 1.7917766974850458\n",
      "6 to 8 : 1.7917766974850453\n",
      "7 to 9 : 1.7917766974850462\n",
      "8 to 10 : 1.7917766974850446\n"
     ]
    }
   ],
   "source": [
    "# write code which measures the distance between adjacent points in reshaped_array\n",
    "for i in range(len(reshaped_array)-1):\n",
    "    p1 = reshaped_array[i]\n",
    "    p2 = reshaped_array[i+1]\n",
    "    distance = calculate_arrays(p1,p2)\n",
    "    print(i,'to',i+2,':', distance)"
   ]
  },
  {
   "cell_type": "code",
   "execution_count": 74,
   "metadata": {},
   "outputs": [
    {
     "name": "stdout",
     "output_type": "stream",
     "text": [
      "{'0 to 1': 1.7917766974850455, '2 to 3': 1.7917766974850458, '5 to 6': 1.7917766974850458, '6 to 7': 1.7917766974850453, '4 to 5': 1.7917766974850458, '3 to 4': 1.7917766974850455, '7 to 8': 1.7917766974850462, '8 to 9': 1.7917766974850446, '1 to 2': 1.7917766974850455}\n"
     ]
    }
   ],
   "source": [
    "# place all distances into a dictionary format\n",
    "dist_3D = {}\n",
    "for i in range(len(reshaped_array)-1):\n",
    "    p1 = reshaped_array[i]\n",
    "    p2 = reshaped_array[i+1]\n",
    "    distance = calculate_arrays(p1,p2)\n",
    "    \n",
    "    dist_3D[str(i)+' to '+str(i+1)] = distance\n",
    "    \n",
    "print(dist_3D)"
   ]
  },
  {
   "cell_type": "code",
   "execution_count": 77,
   "metadata": {},
   "outputs": [
    {
     "name": "stdout",
     "output_type": "stream",
     "text": [
      "{(0, 1): 1.7917766974850455, (1, 2): 1.7917766974850455, (5, 6): 1.7917766974850458, (2, 3): 1.7917766974850458, (4, 5): 1.7917766974850458, (6, 7): 1.7917766974850453, (8, 9): 1.7917766974850446, (3, 4): 1.7917766974850455, (7, 8): 1.7917766974850462}\n"
     ]
    }
   ],
   "source": [
    "# Jessica Nash code:\n",
    "distJN_3D = {}\n",
    "for i in range(len(reshaped_array)-1):\n",
    "    p1 = reshaped_array[i]\n",
    "    p2 = reshaped_array[i+1]\n",
    "    distance = calculate_arrays(p1,p2)\n",
    "    distJN_3D[(i,i+1)]=distance\n",
    "    \n",
    "print(distJN_3D)"
   ]
  },
  {
   "cell_type": "code",
   "execution_count": 91,
   "metadata": {},
   "outputs": [
    {
     "name": "stdout",
     "output_type": "stream",
     "text": [
      "[[0. 0. 0.]\n",
      " [0. 0. 0.]\n",
      " [0. 0. 0.]\n",
      " [0. 0. 0.]\n",
      " [0. 0. 0.]\n",
      " [0. 0. 0.]\n",
      " [0. 0. 0.]\n",
      " [0. 0. 0.]\n",
      " [0. 0. 0.]\n",
      " [0. 0. 0.]]\n"
     ]
    }
   ],
   "source": [
    "zero_array = np.zeros([10,3])\n",
    "print(zero_array)"
   ]
  },
  {
   "cell_type": "code",
   "execution_count": 94,
   "metadata": {},
   "outputs": [
    {
     "name": "stdout",
     "output_type": "stream",
     "text": [
      "[1.7917766974850455, 1.7917766974850455, 1.7917766974850458, 1.7917766974850455, 1.7917766974850458, 1.7917766974850458, 1.7917766974850453, 1.7917766974850462, 1.7917766974850446, array([0., 0., 0.])]\n"
     ]
    }
   ],
   "source": [
    "data_list = list(zero_array)\n",
    "for i in range(len(reshaped_array)-1):\n",
    "    p1 = reshaped_array[i]\n",
    "    p2 = reshaped_array[i+1]\n",
    "    distance = calculate_arrays(p1,p2)\n",
    "    data_list[i]=distance\n",
    "    \n",
    "print(data_list)"
   ]
  },
  {
   "cell_type": "code",
   "execution_count": 111,
   "metadata": {},
   "outputs": [],
   "source": [
    "# Create an array of 10 evenly spaced points between (0,0,0) and (10,10,10)\n",
    "zeros = np.zeros([11,3])\n",
    "\n",
    "for i in range(1,len(zeros)):\n",
    "    for j in range(3):\n",
    "        zeros[i,j] = i\n",
    "    "
   ]
  },
  {
   "cell_type": "code",
   "execution_count": 112,
   "metadata": {},
   "outputs": [
    {
     "name": "stdout",
     "output_type": "stream",
     "text": [
      "[[ 0.  0.  0.]\n",
      " [ 1.  1.  1.]\n",
      " [ 2.  2.  2.]\n",
      " [ 3.  3.  3.]\n",
      " [ 4.  4.  4.]\n",
      " [ 5.  5.  5.]\n",
      " [ 6.  6.  6.]\n",
      " [ 7.  7.  7.]\n",
      " [ 8.  8.  8.]\n",
      " [ 9.  9.  9.]\n",
      " [10. 10. 10.]]\n"
     ]
    }
   ],
   "source": [
    "print(zeros)"
   ]
  },
  {
   "cell_type": "code",
   "execution_count": 113,
   "metadata": {},
   "outputs": [
    {
     "data": {
      "text/plain": [
       "<mpl_toolkits.mplot3d.art3d.Path3DCollection at 0x7f878b5c8f60>"
      ]
     },
     "execution_count": 113,
     "metadata": {},
     "output_type": "execute_result"
    },
    {
     "data": {
      "image/png": "[encoded data removed]",
      "text/plain": [
       "<Figure size 432x288 with 1 Axes>"
      ]
     },
     "metadata": {
      "needs_background": "light"
     },
     "output_type": "display_data"
    }
   ],
   "source": [
    "ax = plt.axes(projection='3d')\n",
    "ax.scatter3D(zeros[:,0], zeros[:,1], zeros[:,2])"
   ]
  },
  {
   "cell_type": "code",
   "execution_count": 115,
   "metadata": {},
   "outputs": [
    {
     "name": "stdout",
     "output_type": "stream",
     "text": [
      "[[ 0.          0.          0.        ]\n",
      " [ 1.11111111  1.11111111  1.11111111]\n",
      " [ 2.22222222  2.22222222  2.22222222]\n",
      " [ 3.33333333  3.33333333  3.33333333]\n",
      " [ 4.44444444  4.44444444  4.44444444]\n",
      " [ 5.55555556  5.55555556  5.55555556]\n",
      " [ 6.66666667  6.66666667  6.66666667]\n",
      " [ 7.77777778  7.77777778  7.77777778]\n",
      " [ 8.88888889  8.88888889  8.88888889]\n",
      " [10.         10.         10.        ]]\n"
     ]
    }
   ],
   "source": [
    "# Jessica Nash code\n",
    "dim = np.linspace(0,10, num=10)\n",
    "fill_array = np.zeros([10,3])\n",
    "\n",
    "fill_array[:,0] = dim\n",
    "fill_array[:,1] = dim\n",
    "fill_array[:,2] = dim\n",
    "\n",
    "print(fill_array)"
   ]
  },
  {
   "cell_type": "code",
   "execution_count": 128,
   "metadata": {},
   "outputs": [
    {
     "ename": "ValueError",
     "evalue": "The truth value of an array with more than one element is ambiguous. Use a.any() or a.all()",
     "output_type": "error",
     "traceback": [
      "\u001b[0;31m---------------------------------------------------------------------------\u001b[0m",
      "\u001b[0;31mValueError\u001b[0m                                Traceback (most recent call last)",
      "\u001b[0;32m<ipython-input-128-0b0328767672>\u001b[0m in \u001b[0;36m<module>\u001b[0;34m\u001b[0m\n\u001b[1;32m      1\u001b[0m \u001b[0;31m# Student solution\u001b[0m\u001b[0;34m\u001b[0m\u001b[0;34m\u001b[0m\u001b[0m\n\u001b[0;32m----> 2\u001b[0;31m \u001b[0mnp\u001b[0m\u001b[0;34m.\u001b[0m\u001b[0mlinspace\u001b[0m\u001b[0;34m(\u001b[0m\u001b[0;34m[\u001b[0m\u001b[0;36m0\u001b[0m\u001b[0;34m,\u001b[0m\u001b[0;36m0\u001b[0m\u001b[0;34m,\u001b[0m\u001b[0;36m0\u001b[0m\u001b[0;34m]\u001b[0m\u001b[0;34m,\u001b[0m\u001b[0;34m[\u001b[0m\u001b[0;36m10\u001b[0m\u001b[0;34m,\u001b[0m\u001b[0;36m10\u001b[0m\u001b[0;34m,\u001b[0m\u001b[0;36m10\u001b[0m\u001b[0;34m]\u001b[0m\u001b[0;34m,\u001b[0m \u001b[0;36m10\u001b[0m\u001b[0;34m)\u001b[0m \u001b[0;31m#\u001b[0m\u001b[0;34m\u001b[0m\u001b[0m\n\u001b[0m",
      "\u001b[0;32m~/.local/lib/python3.5/site-packages/numpy/core/function_base.py\u001b[0m in \u001b[0;36mlinspace\u001b[0;34m(start, stop, num, endpoint, retstep, dtype)\u001b[0m\n\u001b[1;32m    122\u001b[0m     \u001b[0;32mif\u001b[0m \u001b[0mnum\u001b[0m \u001b[0;34m>\u001b[0m \u001b[0;36m1\u001b[0m\u001b[0;34m:\u001b[0m\u001b[0;34m\u001b[0m\u001b[0m\n\u001b[1;32m    123\u001b[0m         \u001b[0mstep\u001b[0m \u001b[0;34m=\u001b[0m \u001b[0mdelta\u001b[0m \u001b[0;34m/\u001b[0m \u001b[0mdiv\u001b[0m\u001b[0;34m\u001b[0m\u001b[0m\n\u001b[0;32m--> 124\u001b[0;31m         \u001b[0;32mif\u001b[0m \u001b[0mstep\u001b[0m \u001b[0;34m==\u001b[0m \u001b[0;36m0\u001b[0m\u001b[0;34m:\u001b[0m\u001b[0;34m\u001b[0m\u001b[0m\n\u001b[0m\u001b[1;32m    125\u001b[0m             \u001b[0;31m# Special handling for denormal numbers, gh-5437\u001b[0m\u001b[0;34m\u001b[0m\u001b[0;34m\u001b[0m\u001b[0m\n\u001b[1;32m    126\u001b[0m             \u001b[0my\u001b[0m \u001b[0;34m/=\u001b[0m \u001b[0mdiv\u001b[0m\u001b[0;34m\u001b[0m\u001b[0m\n",
      "\u001b[0;31mValueError\u001b[0m: The truth value of an array with more than one element is ambiguous. Use a.any() or a.all()"
     ]
    }
   ],
   "source": [
    "# Student solution\n",
    "np.linspace([0,0,0],[10,10,10], 10) # need to update python 3.5 to 3.7"
   ]
  },
  {
   "cell_type": "code",
   "execution_count": 121,
   "metadata": {},
   "outputs": [
    {
     "data": {
      "text/plain": [
       "array([[ 0.        ,  0.        ,  0.        ],\n",
       "       [ 1.11111111,  1.11111111,  1.11111111],\n",
       "       [ 2.22222222,  2.22222222,  2.22222222],\n",
       "       [ 3.33333333,  3.33333333,  3.33333333],\n",
       "       [ 4.44444444,  4.44444444,  4.44444444],\n",
       "       [ 5.55555556,  5.55555556,  5.55555556],\n",
       "       [ 6.66666667,  6.66666667,  6.66666667],\n",
       "       [ 7.77777778,  7.77777778,  7.77777778],\n",
       "       [ 8.88888889,  8.88888889,  8.88888889],\n",
       "       [10.        , 10.        , 10.        ]])"
      ]
     },
     "execution_count": 121,
     "metadata": {},
     "output_type": "execute_result"
    }
   ],
   "source": [
    "# another student solution\n",
    "n = dim.repeat(3)\n",
    "n.reshape([10,3])"
   ]
  },
  {
   "cell_type": "code",
   "execution_count": null,
   "metadata": {},
   "outputs": [],
   "source": []
  }
 ],
 "metadata": {
  "kernelspec": {
   "display_name": "Python 3",
   "language": "python",
   "name": "python3"
  },
  "language_info": {
   "codemirror_mode": {
    "name": "ipython",
    "version": 3
   },
   "file_extension": ".py",
   "mimetype": "text/x-python",
   "name": "python",
   "nbconvert_exporter": "python",
   "pygments_lexer": "ipython3",
   "version": "3.5.2"
  }
 },
 "nbformat": 4,
 "nbformat_minor": 2
}
